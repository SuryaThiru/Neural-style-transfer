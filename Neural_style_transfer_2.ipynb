{
 "cells": [
  {
   "cell_type": "markdown",
   "metadata": {
    "_uuid": "ad38aede24ed8b0342b7a412bdf5b615676f0f73",
    "colab_type": "text",
    "id": "-KXqydKuAN7R"
   },
   "source": [
    "# Nueral Style Transfer in Keras"
   ]
  },
  {
   "cell_type": "markdown",
   "metadata": {
    "_uuid": "647adc6a404d2c9425d38756a2a7594842660da8",
    "colab_type": "text",
    "id": "Su7-neIuLmoX"
   },
   "source": [
    "## Import required libraries"
   ]
  },
  {
   "cell_type": "code",
   "execution_count": 1,
   "metadata": {
    "_uuid": "0d9f84b7f075dab182bc152701b1c75b792eb730",
    "colab": {
     "autoexec": {
      "startup": false,
      "wait_interval": 0
     },
     "base_uri": "https://localhost:8080/",
     "height": 0
    },
    "colab_type": "code",
    "executionInfo": {
     "elapsed": 1886,
     "status": "ok",
     "timestamp": 1533375627566,
     "user": {
      "displayName": "Surya GCP",
      "photoUrl": "https://lh3.googleusercontent.com/a/default-user=s128",
      "userId": "111350851809469475095"
     },
     "user_tz": -330
    },
    "id": "ZdF0bB0i5FgR",
    "outputId": "5e8552bc-d71c-429c-e7b5-8e342a1c3474"
   },
   "outputs": [
    {
     "name": "stderr",
     "output_type": "stream",
     "text": [
      "Using TensorFlow backend.\n"
     ]
    }
   ],
   "source": [
    "import keras.backend as K\n",
    "from keras.applications.vgg16 import preprocess_input, VGG16\n",
    "from keras.preprocessing.image import load_img, img_to_array\n",
    "from scipy.optimize import fmin_l_bfgs_b\n",
    "from PIL import Image\n",
    "import numpy as np\n",
    "import matplotlib.pyplot as plt\n",
    "%matplotlib inline"
   ]
  },
  {
   "cell_type": "markdown",
   "metadata": {
    "_uuid": "911eb73eb49ee42aaa38e6fcbf88479a8c07665e",
    "colab_type": "text",
    "id": "NDjI_o-6mnZs"
   },
   "source": [
    "## Set up files in the server"
   ]
  },
  {
   "cell_type": "code",
   "execution_count": 2,
   "metadata": {
    "_uuid": "26b3b88c3ece5a41f5ab77ed7f3ba8dc99d3f0ac",
    "colab": {
     "autoexec": {
      "startup": false,
      "wait_interval": 0
     },
     "base_uri": "https://localhost:8080/",
     "height": 0
    },
    "colab_type": "code",
    "executionInfo": {
     "elapsed": 4229,
     "status": "ok",
     "timestamp": 1533375631854,
     "user": {
      "displayName": "Surya GCP",
      "photoUrl": "https://lh3.googleusercontent.com/a/default-user=s128",
      "userId": "111350851809469475095"
     },
     "user_tz": -330
    },
    "id": "wdjIEPQ8vU23",
    "outputId": "686edd84-7922-40d7-a7dd-7ef938e8f90a"
   },
   "outputs": [],
   "source": [
    "# !wget https://github.com/AparaV/artistic-style/raw/master/images/originals/river.jpg\n",
    "# !wget https://github.com/AparaV/artistic-style/raw/master/images/originals/starry_night.jpg"
   ]
  },
  {
   "cell_type": "code",
   "execution_count": 3,
   "metadata": {
    "_uuid": "fcd9e6342f47eb6102a120903cad773e062828a6",
    "colab": {
     "autoexec": {
      "startup": false,
      "wait_interval": 0
     },
     "base_uri": "https://localhost:8080/",
     "height": 0
    },
    "colab_type": "code",
    "executionInfo": {
     "elapsed": 4888,
     "status": "ok",
     "timestamp": 1533375636824,
     "user": {
      "displayName": "Surya GCP",
      "photoUrl": "https://lh3.googleusercontent.com/a/default-user=s128",
      "userId": "111350851809469475095"
     },
     "user_tz": -330
    },
    "id": "fkr0pwqwv-ln",
    "outputId": "9a1e8e58-865d-4904-9756-a432a4260f29"
   },
   "outputs": [],
   "source": [
    "# !mkdir img\n",
    "# !mkdir output\n",
    "# !mv *.jpg img/"
   ]
  },
  {
   "cell_type": "code",
   "execution_count": 4,
   "metadata": {
    "_uuid": "3d93725e4899977a603b46eb971a1a2b8318a1d8",
    "colab": {
     "autoexec": {
      "startup": false,
      "wait_interval": 0
     },
     "base_uri": "https://localhost:8080/",
     "height": 0
    },
    "colab_type": "code",
    "executionInfo": {
     "elapsed": 2154,
     "status": "ok",
     "timestamp": 1533375639092,
     "user": {
      "displayName": "Surya GCP",
      "photoUrl": "https://lh3.googleusercontent.com/a/default-user=s128",
      "userId": "111350851809469475095"
     },
     "user_tz": -330
    },
    "id": "fGJ8hVVPwl65",
    "outputId": "660f478b-511c-48e1-879a-3ea850b0595a"
   },
   "outputs": [
    {
     "name": "stdout",
     "output_type": "stream",
     "text": [
      "river.jpg  starry_night.jpg\r\n"
     ]
    }
   ],
   "source": [
    "!ls img"
   ]
  },
  {
   "cell_type": "code",
   "execution_count": 5,
   "metadata": {
    "_uuid": "1a865d1007ccc121fd2895cf2bbeddcb672dae62",
    "colab": {
     "autoexec": {
      "startup": false,
      "wait_interval": 0
     }
    },
    "colab_type": "code",
    "id": "PB28bRP4vJAX"
   },
   "outputs": [],
   "source": [
    "cnt_img_path = 'img/river.jpg'\n",
    "style_img_path = 'img/starry_night.jpg'\n",
    "output_path = 'output/'"
   ]
  },
  {
   "cell_type": "markdown",
   "metadata": {
    "_uuid": "89053c727ef7fdc2e5d2da2a059e91e7f3affa5d",
    "colab_type": "text",
    "id": "LAB31mmF5M_4"
   },
   "source": [
    "## Utilities"
   ]
  },
  {
   "cell_type": "code",
   "execution_count": 6,
   "metadata": {
    "_uuid": "b19f790f29c4b7a80a27e08e2cef075c33ba8d0d",
    "colab": {
     "autoexec": {
      "startup": false,
      "wait_interval": 0
     }
    },
    "colab_type": "code",
    "id": "jwgfyxmnxfxT"
   },
   "outputs": [],
   "source": [
    "def imsave(img, path):\n",
    "    img = post_process_image(img)\n",
    "    img = Image.fromarray(img)\n",
    "    img.save(path)\n",
    "\n",
    "def imread(path, preprocess=True):\n",
    "  # reads an image and returns a preprocessed array\n",
    "    img = Image.open(path)\n",
    "    img = img_to_array(img)\n",
    "    return preprocess_input(np.expand_dims(img, axis=0)).astype(K.floatx()) if preprocess else img\n",
    "\n",
    "def imread_tensor(path, target_size=(512,512)):\n",
    "  # reads an image and returns a preprocessed tensor\n",
    "    img = load_img(path=path, target_size=target_size)\n",
    "    img = img_to_array(img)\n",
    "    img = K.variable(preprocess_input(np.expand_dims(img, axis=0)), dtype='float32')\n",
    "    return img\n",
    "\n",
    "def imsave_tensor(tensor, path):\n",
    "    img = K.get_value(tensor)[0]\n",
    "    imsave(img, path)\n",
    "\n",
    "def implot(img):\n",
    "    if type(img) == str: # read from path\n",
    "        img = imread(img, False)\n",
    "    plt.figure(figsize=(7,7))\n",
    "    plt.axis('off')\n",
    "    plt.imshow(img)\n",
    "\n",
    "def post_process_image(image):\n",
    "    image[:, :, 0] += 103.939\n",
    "    image[:, :, 1] += 116.779\n",
    "    image[:, :, 2] += 123.68\n",
    "    return np.clip(image[:, :, ::-1], 0, 255).astype('uint8')\n",
    "\n",
    "def postprocess_array(x):\n",
    "    x = x.reshape(target_size)\n",
    "    x[..., 0] = np.add(x[..., 0], 103.939, casting='unsafe')\n",
    "    x[..., 1] = np.add(x[..., 1], 116.779, casting='unsafe')\n",
    "    x[..., 2] = np.add(x[..., 2], 123.68, casting='unsafe')\n",
    "    #   x[..., 0] += 103.939\n",
    "    #   x[..., 1] += 116.779\n",
    "    #   x[..., 2] += 123.68\n",
    "    # 'BGR'->'RGB'\n",
    "    x = x[..., ::-1]\n",
    "    x = np.clip(x, 0, 255)\n",
    "    x = x.astype('uint8')\n",
    "    return x"
   ]
  },
  {
   "cell_type": "markdown",
   "metadata": {
    "_uuid": "3be167bfbfef429f56a39f4c39666db3974fb211",
    "colab_type": "text",
    "id": "W6siMQ1WIQ7R"
   },
   "source": [
    "## Implement Keras model"
   ]
  },
  {
   "cell_type": "markdown",
   "metadata": {
    "_uuid": "ad7b945824521d5cbaf3ff62f1136f3f937ea661",
    "colab_type": "text",
    "id": "HItLMSWeA9ja"
   },
   "source": [
    "### Define important operations"
   ]
  },
  {
   "cell_type": "code",
   "execution_count": 7,
   "metadata": {
    "_uuid": "547b03a1b6b7c3c59ab5a8bdea67063d568f065b",
    "colab": {
     "autoexec": {
      "startup": false,
      "wait_interval": 0
     }
    },
    "colab_type": "code",
    "id": "OtkE0nHAHvgX"
   },
   "outputs": [],
   "source": [
    "def generate_canvas(ref_image=None):\n",
    "    ''' Generate a canvas and return a placeholder\n",
    "    modes: random, from_ref\n",
    "    ref_image: pass an img array if mode is 'from_ref'\n",
    "    '''\n",
    "    size = (512, 512, 3)\n",
    "\n",
    "    if ref_image is None:\n",
    "        img = np.random.randint(256, size=size).astype('float64')\n",
    "    else:\n",
    "        img = ref_image.copy()\n",
    "\n",
    "    img = preprocess_input(np.expand_dims(img, axis=0))\n",
    "\n",
    "    return img"
   ]
  },
  {
   "cell_type": "code",
   "execution_count": 8,
   "metadata": {
    "_uuid": "dcb2741cb8d3604e09c4ea0318178c5ac716867b",
    "colab": {
     "autoexec": {
      "startup": false,
      "wait_interval": 0
     }
    },
    "colab_type": "code",
    "id": "mU8FcIcToIyG"
   },
   "outputs": [],
   "source": [
    "def get_feature_maps(model, layers):\n",
    "    '''get feature maps for given layers in the required format\n",
    "    '''\n",
    "    features = []\n",
    "    \n",
    "    for layer in layers:\n",
    "        feat = model.get_layer(layer).output\n",
    "        shape = K.shape(feat).eval(session=tf_session)\n",
    "        M = shape[1] * shape[2]\n",
    "        N = shape[-1]\n",
    "        feat = K.transpose(K.reshape(feat, (M, N)))\n",
    "        features.append(feat)\n",
    "    \n",
    "    return features   \n",
    "\n",
    "def get_feature_outputs(inp_layer, feat_maps, inp_array):\n",
    "    ''' get output of feature map after passing input\n",
    "    '''\n",
    "    get_outputs = K.function(inputs=[inp_layer], outputs=feat_maps)\n",
    "    outputs = get_outputs([inp_array])\n",
    "    return [K.variable(out) for out in outputs]"
   ]
  },
  {
   "cell_type": "markdown",
   "metadata": {
    "_uuid": "9abcd5f03dacf00c2469aa41388f3c00f6829ce2",
    "colab_type": "text",
    "id": "9c07MQn7PC8l"
   },
   "source": [
    "### Calculate loss"
   ]
  },
  {
   "cell_type": "code",
   "execution_count": 9,
   "metadata": {
    "_uuid": "27772b9a9bd8360bb27414b5d25778bfb642016d",
    "colab": {
     "autoexec": {
      "startup": false,
      "wait_interval": 0
     }
    },
    "colab_type": "code",
    "id": "trBwS1qJIdsE"
   },
   "outputs": [],
   "source": [
    "def content_loss(F, P):\n",
    "    assert F.shape == P.shape\n",
    "    loss = 1 / 2 * K.sum(K.square(F - P))\n",
    "    return loss"
   ]
  },
  {
   "cell_type": "code",
   "execution_count": 10,
   "metadata": {
    "_uuid": "28cb3a416034ac10faedd82bf14bdddb0ba0d5c4",
    "colab": {
     "autoexec": {
      "startup": false,
      "wait_interval": 0
     }
    },
    "colab_type": "code",
    "id": "XyhGv_DSgIju"
   },
   "outputs": [],
   "source": [
    "def gram_matrix(matrix):\n",
    "    return K.dot(matrix, K.transpose(matrix))"
   ]
  },
  {
   "cell_type": "code",
   "execution_count": 11,
   "metadata": {
    "_uuid": "23f5cd463035119ba7469af077574ee9f8c33a4c",
    "colab": {
     "autoexec": {
      "startup": false,
      "wait_interval": 0
     }
    },
    "colab_type": "code",
    "id": "CyCIBID6xCbE"
   },
   "outputs": [],
   "source": [
    "def style_loss(G, A):\n",
    "    ''' Contribution of each layer to the total style loss\n",
    "    '''\n",
    "    assert G.shape == A.shape\n",
    "\n",
    "    N, M = K.shape(G).eval(session=tf_session)\n",
    "    loss = 1 / (4 * (N ** 2) * (M ** 2)) * K.sum(K.square(G - A))\n",
    "    return loss\n",
    "\n",
    "def total_style_loss(weights, Gs, As):\n",
    "    ''' Get weighted total style loss\n",
    "    '''\n",
    "    loss = 0\n",
    "\n",
    "    for w, G, A in zip(weights, Gs, As):\n",
    "        loss += w * style_loss(G, A)\n",
    "\n",
    "    return loss    "
   ]
  },
  {
   "cell_type": "code",
   "execution_count": 12,
   "metadata": {
    "_uuid": "25a5a58462613452333ac9590e905b7536e0aece",
    "colab": {
     "autoexec": {
      "startup": false,
      "wait_interval": 0
     }
    },
    "colab_type": "code",
    "id": "CG0UNFzm1p3B"
   },
   "outputs": [],
   "source": [
    "def total_loss(p, a, canvas_img, canvas_model, clayers, slayers, style_weights, alpha=1.0, beta=10000.0):\n",
    "    ''' Get total loss\n",
    "    params:\n",
    "    x: generated image\n",
    "    p: content image features output\n",
    "    a: style image features output\n",
    "    '''\n",
    "    f = get_feature_maps(canvas_model, clayers)[0]\n",
    "    gs = get_feature_maps(canvas_model, slayers)\n",
    "\n",
    "    #   F = get_feature_outputs(canvas_model.input, f, canvas_img)[0]\n",
    "    #   Gs = get_feature_outputs(canvas_model.input, gs, canvas_img)\n",
    "\n",
    "    closs = content_loss(f, p)\n",
    "    sloss = total_style_loss(style_weights, gs, a)\n",
    "\n",
    "    loss = alpha * closs + beta * sloss  \n",
    "    return loss"
   ]
  },
  {
   "cell_type": "markdown",
   "metadata": {
    "_uuid": "e8aeb1f44e3b4b69346a947b007082dc3d4170f7",
    "colab_type": "text",
    "id": "FYnMlCpxMoOr"
   },
   "source": [
    "###  Read images and define model"
   ]
  },
  {
   "cell_type": "markdown",
   "metadata": {
    "_uuid": "b989a4bafda0ec5ddffa7840a46a1f2129f1dfa7",
    "colab_type": "text",
    "id": "bzpwAiVz8kKC"
   },
   "source": [
    "load all the images"
   ]
  },
  {
   "cell_type": "code",
   "execution_count": 13,
   "metadata": {
    "_uuid": "9e0c1cfddd3705fc8ec20ac8363520377f9b2670",
    "colab": {
     "autoexec": {
      "startup": false,
      "wait_interval": 0
     }
    },
    "colab_type": "code",
    "id": "J3RPk-QC8Vy1"
   },
   "outputs": [],
   "source": [
    "target_size = (512, 512, 3)"
   ]
  },
  {
   "cell_type": "code",
   "execution_count": 14,
   "metadata": {
    "_uuid": "f8e6fe072d825133976e81b82c300e21a31199cb",
    "colab": {
     "autoexec": {
      "startup": false,
      "wait_interval": 0
     }
    },
    "colab_type": "code",
    "id": "Qr9Utfrch7H6"
   },
   "outputs": [],
   "source": [
    "# cnt_img = imread_tensor(cnt_img_path)\n",
    "# style_img = imread_tensor(style_img_path)\n",
    "cnt_img = imread(cnt_img_path)\n",
    "style_img = imread(style_img_path)\n",
    "canvas_img = generate_canvas()"
   ]
  },
  {
   "cell_type": "markdown",
   "metadata": {
    "_uuid": "eb258f20a6a16b82f7b9b21c01241782dda13cd1",
    "colab_type": "text",
    "id": "YWAD85Rm8tAS"
   },
   "source": [
    "setup VGG model and required configuraton"
   ]
  },
  {
   "cell_type": "code",
   "execution_count": 15,
   "metadata": {
    "_uuid": "e7b7ca43c9329cb89b8c610baa5d1c9e9ef56811",
    "colab": {
     "autoexec": {
      "startup": false,
      "wait_interval": 0
     }
    },
    "colab_type": "code",
    "id": "33sbfJWD8H4w"
   },
   "outputs": [],
   "source": [
    "placeholder = K.placeholder(shape=(1,)+target_size) "
   ]
  },
  {
   "cell_type": "code",
   "execution_count": 16,
   "metadata": {
    "_uuid": "bb8195693856903ae94832779a760d5217df5284",
    "colab": {
     "autoexec": {
      "startup": false,
      "wait_interval": 0
     }
    },
    "colab_type": "code",
    "id": "A_b8QJGiTEzr"
   },
   "outputs": [],
   "source": [
    "conv_net = VGG16(include_top=False, weights='imagenet', input_tensor=placeholder)"
   ]
  },
  {
   "cell_type": "code",
   "execution_count": 17,
   "metadata": {
    "_uuid": "b0c31b4d47a154298367b6907ebf0f958cbaa0b8",
    "colab": {
     "autoexec": {
      "startup": false,
      "wait_interval": 0
     }
    },
    "colab_type": "code",
    "id": "Shze-wo4hY7a"
   },
   "outputs": [],
   "source": [
    "# cnt_model = VGG16(include_top=False, weights='imagenet', input_tensor=cnt_img)\n",
    "# style_model = VGG16(include_top=False, weights='imagenet', input_tensor=style_img)\n",
    "# canvas_model = VGG16(include_top=False, weights='imagenet', input_tensor=canvas_placeholder)"
   ]
  },
  {
   "cell_type": "code",
   "execution_count": 18,
   "metadata": {
    "_uuid": "6a21c1be0b571169d9864ed17c76a699ee57970e",
    "colab": {
     "autoexec": {
      "startup": false,
      "wait_interval": 0
     }
    },
    "colab_type": "code",
    "id": "0bp0cxXUnE0F"
   },
   "outputs": [],
   "source": [
    "tf_session = K.get_session()"
   ]
  },
  {
   "cell_type": "code",
   "execution_count": 19,
   "metadata": {
    "_uuid": "8ed891427b8156f5afe75844876c80a8f454ec49",
    "colab": {
     "autoexec": {
      "startup": false,
      "wait_interval": 0
     }
    },
    "colab_type": "code",
    "id": "MvF6FRRLLqJR"
   },
   "outputs": [],
   "source": [
    "cnt_layers = ['block4_conv2']\n",
    "style_layers = [\n",
    "                'block1_conv1',\n",
    "                'block2_conv1', \n",
    "                'block3_conv1',\n",
    "                'block4_conv1',\n",
    "]\n",
    "Ws = [1 / float(len(style_layers))] * len(style_layers) # weights for each style layer"
   ]
  },
  {
   "cell_type": "code",
   "execution_count": 20,
   "metadata": {
    "_uuid": "9130685cb504c18e7a501d04f65e66ab7e9e02bb",
    "colab": {
     "autoexec": {
      "startup": false,
      "wait_interval": 0
     }
    },
    "colab_type": "code",
    "id": "h3Wb0Q_d9pvP"
   },
   "outputs": [],
   "source": [
    "p = get_feature_maps(conv_net, cnt_layers)\n",
    "P = get_feature_outputs(conv_net.input, p, cnt_img)[0]\n",
    "a = get_feature_maps(conv_net, style_layers)\n",
    "As = get_feature_outputs(conv_net.input, a, style_img)\n",
    "X = generate_canvas(cnt_img.copy()).flatten()"
   ]
  },
  {
   "cell_type": "code",
   "execution_count": 21,
   "metadata": {
    "_uuid": "64bebdad1f3ffad883cc319a4bed064f28b7872d",
    "colab": {
     "autoexec": {
      "startup": false,
      "wait_interval": 0
     }
    },
    "colab_type": "code",
    "id": "o9r5e4Bppncd"
   },
   "outputs": [],
   "source": [
    "loss_tensor = total_loss(P, As, canvas_img, conv_net, cnt_layers, style_layers, Ws)\n",
    "# loss_func = K.function([], [loss_tensor])\n",
    "# loss = loss_func([])\n",
    "# loss\n",
    "\n",
    "# loss_func = K.function([conv_net.input], [loss_tensor])\n",
    "# loss = loss_func([canvas_img])\n",
    "# loss"
   ]
  },
  {
   "cell_type": "code",
   "execution_count": 22,
   "metadata": {
    "_uuid": "e7e8179bfc2751a64683bbaab40122d1ef5707d7",
    "colab": {
     "autoexec": {
      "startup": false,
      "wait_interval": 0
     }
    },
    "colab_type": "code",
    "id": "iiKfAVO3Pttf"
   },
   "outputs": [],
   "source": [
    "get_convnet_output = K.function(inputs=[conv_net.layers[0].input],\n",
    "outputs=[conv_net.get_layer(t).output for t in style_layers])"
   ]
  },
  {
   "cell_type": "markdown",
   "metadata": {
    "_uuid": "30d92d402c8783431de3a586eb8870b0501e930b",
    "colab_type": "text",
    "id": "mIDitv-f9XO9"
   },
   "source": [
    "## Optimize the distance between content and style image"
   ]
  },
  {
   "cell_type": "markdown",
   "metadata": {
    "_uuid": "0cd3de3e0b951ee9952ad2452e759139c85f93cf",
    "colab_type": "text",
    "id": "rApmO-A8-HWG"
   },
   "source": [
    "Define function to use with scipy optimizers. The total loss function is optimized using the **limited-memory BFGS** optimizer.\n",
    "\n",
    "L-BFGS is a second order optimization method that works compared well to other popular methods when memory requirements can't be met."
   ]
  },
  {
   "cell_type": "code",
   "execution_count": 23,
   "metadata": {
    "_uuid": "366c81741789d693e172e5ba00802eae17b0b097",
    "colab": {
     "autoexec": {
      "startup": false,
      "wait_interval": 0
     }
    },
    "colab_type": "code",
    "id": "vm1gwk86U5sO"
   },
   "outputs": [],
   "source": [
    "epochs = 300\n",
    "save_per_epoch = 20"
   ]
  },
  {
   "cell_type": "code",
   "execution_count": 24,
   "metadata": {
    "_uuid": "5fd64cec7428bf88b52958cf767a489fa7acfcd5",
    "colab": {
     "autoexec": {
      "startup": false,
      "wait_interval": 0
     }
    },
    "colab_type": "code",
    "id": "SGNA01BpMMQY"
   },
   "outputs": [],
   "source": [
    "# gimg - generated image in the canvas\n",
    "step = 1\n",
    "\n",
    "def calculate_loss(gimg):\n",
    "    gimg = gimg.reshape((1,)+target_size)\n",
    "\n",
    "    loss = total_loss(P, As, gimg, conv_net, cnt_layers, style_layers, Ws)\n",
    "    loss_func = K.function([conv_net.input], [loss])\n",
    "    loss = loss_func([gimg])[0].astype('float64')\n",
    "    return loss\n",
    "    \n",
    "def calculate_grad(gimg):\n",
    "    gimg = gimg.reshape((1,)+target_size)\n",
    "\n",
    "    loss = total_loss(P, As, gimg, conv_net, cnt_layers, style_layers, Ws)\n",
    "\n",
    "    gradients = K.gradients(loss, [conv_net.input])\n",
    "    grad_func = K.function([conv_net.input], gradients)\n",
    "    grads = grad_func([gimg])[0].astype('float64').flatten()\n",
    "    return grads\n",
    "\n",
    "def callback(gimg):\n",
    "    global step\n",
    "\n",
    "    print(f'\\rStep: {step}/{epochs}    ', end='')\n",
    "    step += 1\n",
    "\n",
    "    if (step % save_per_epoch) == 0 or (step == epochs):\n",
    "        gimg = gimg.copy()\n",
    "        gimg = gimg.reshape(target_size)\n",
    "        path = output_path + f'out_{step}.jpg'\n",
    "        print('\\rSaving image...', end='')\n",
    "        imsave(gimg, path)"
   ]
  },
  {
   "cell_type": "code",
   "execution_count": 25,
   "metadata": {
    "_uuid": "9cec71d9626947650ec9ef07b42561fbb09ce56c",
    "colab": {
     "autoexec": {
      "startup": false,
      "wait_interval": 0
     }
    },
    "colab_type": "code",
    "id": "vEk2MbUaZqr8"
   },
   "outputs": [],
   "source": [
    "bounds = np.ndarray(shape=(X.shape[0], 2))\n",
    "bounds[:, 0] = -128.0\n",
    "bounds[:, 1] = 128.0"
   ]
  },
  {
   "cell_type": "code",
   "execution_count": 26,
   "metadata": {
    "_uuid": "f6e3c8f15d49dede543e6255aeeae5af57437326",
    "colab": {
     "autoexec": {
      "startup": false,
      "wait_interval": 0
     }
    },
    "colab_type": "code",
    "id": "pYL3l-rYCjWX"
   },
   "outputs": [
    {
     "name": "stdout",
     "output_type": "stream",
     "text": [
      "Saving image... "
     ]
    },
    {
     "ename": "ResourceExhaustedError",
     "evalue": "OOM when allocating tensor with shape[1,128,256,256] and type float on /job:localhost/replica:0/task:0/device:GPU:0 by allocator GPU_0_bfc\n\t [[Node: gradients_23/AddN_2-0-TransposeNHWCToNCHW-LayoutOptimizer = Transpose[T=DT_FLOAT, Tperm=DT_INT32, _device=\"/job:localhost/replica:0/task:0/device:GPU:0\"](gradients_23/Reshape_247_grad/Reshape, PermConstNHWCToNCHW-LayoutOptimizer)]]\nHint: If you want to see a list of allocated tensors when OOM happens, add report_tensor_allocations_upon_oom to RunOptions for current allocation info.\n\n\t [[Node: gradients_23/block1_conv1/convolution_grad/Conv2DBackpropInput/_1263 = _Recv[client_terminated=false, recv_device=\"/job:localhost/replica:0/task:0/device:CPU:0\", send_device=\"/job:localhost/replica:0/task:0/device:GPU:0\", send_device_incarnation=1, tensor_name=\"edge_273_gradients_23/block1_conv1/convolution_grad/Conv2DBackpropInput\", tensor_type=DT_FLOAT, _device=\"/job:localhost/replica:0/task:0/device:CPU:0\"]()]]\nHint: If you want to see a list of allocated tensors when OOM happens, add report_tensor_allocations_upon_oom to RunOptions for current allocation info.\n",
     "output_type": "error",
     "traceback": [
      "\u001b[0;31m----------------------------------------------------------------------\u001b[0m",
      "\u001b[0;31mResourceExhaustedError\u001b[0m               Traceback (most recent call last)",
      "\u001b[0;32m~/anaconda3/envs/tfgpu/lib/python3.6/site-packages/tensorflow/python/client/session.py\u001b[0m in \u001b[0;36m_do_call\u001b[0;34m(self, fn, *args)\u001b[0m\n\u001b[1;32m   1326\u001b[0m     \u001b[0;32mtry\u001b[0m\u001b[0;34m:\u001b[0m\u001b[0;34m\u001b[0m\u001b[0m\n\u001b[0;32m-> 1327\u001b[0;31m       \u001b[0;32mreturn\u001b[0m \u001b[0mfn\u001b[0m\u001b[0;34m(\u001b[0m\u001b[0;34m*\u001b[0m\u001b[0margs\u001b[0m\u001b[0;34m)\u001b[0m\u001b[0;34m\u001b[0m\u001b[0m\n\u001b[0m\u001b[1;32m   1328\u001b[0m     \u001b[0;32mexcept\u001b[0m \u001b[0merrors\u001b[0m\u001b[0;34m.\u001b[0m\u001b[0mOpError\u001b[0m \u001b[0;32mas\u001b[0m \u001b[0me\u001b[0m\u001b[0;34m:\u001b[0m\u001b[0;34m\u001b[0m\u001b[0m\n",
      "\u001b[0;32m~/anaconda3/envs/tfgpu/lib/python3.6/site-packages/tensorflow/python/client/session.py\u001b[0m in \u001b[0;36m_run_fn\u001b[0;34m(feed_dict, fetch_list, target_list, options, run_metadata)\u001b[0m\n\u001b[1;32m   1311\u001b[0m       return self._call_tf_sessionrun(\n\u001b[0;32m-> 1312\u001b[0;31m           options, feed_dict, fetch_list, target_list, run_metadata)\n\u001b[0m\u001b[1;32m   1313\u001b[0m \u001b[0;34m\u001b[0m\u001b[0m\n",
      "\u001b[0;32m~/anaconda3/envs/tfgpu/lib/python3.6/site-packages/tensorflow/python/client/session.py\u001b[0m in \u001b[0;36m_call_tf_sessionrun\u001b[0;34m(self, options, feed_dict, fetch_list, target_list, run_metadata)\u001b[0m\n\u001b[1;32m   1419\u001b[0m             \u001b[0mself\u001b[0m\u001b[0;34m.\u001b[0m\u001b[0m_session\u001b[0m\u001b[0;34m,\u001b[0m \u001b[0moptions\u001b[0m\u001b[0;34m,\u001b[0m \u001b[0mfeed_dict\u001b[0m\u001b[0;34m,\u001b[0m \u001b[0mfetch_list\u001b[0m\u001b[0;34m,\u001b[0m \u001b[0mtarget_list\u001b[0m\u001b[0;34m,\u001b[0m\u001b[0;34m\u001b[0m\u001b[0m\n\u001b[0;32m-> 1420\u001b[0;31m             status, run_metadata)\n\u001b[0m\u001b[1;32m   1421\u001b[0m \u001b[0;34m\u001b[0m\u001b[0m\n",
      "\u001b[0;32m~/anaconda3/envs/tfgpu/lib/python3.6/site-packages/tensorflow/python/framework/errors_impl.py\u001b[0m in \u001b[0;36m__exit__\u001b[0;34m(self, type_arg, value_arg, traceback_arg)\u001b[0m\n\u001b[1;32m    515\u001b[0m             \u001b[0mcompat\u001b[0m\u001b[0;34m.\u001b[0m\u001b[0mas_text\u001b[0m\u001b[0;34m(\u001b[0m\u001b[0mc_api\u001b[0m\u001b[0;34m.\u001b[0m\u001b[0mTF_Message\u001b[0m\u001b[0;34m(\u001b[0m\u001b[0mself\u001b[0m\u001b[0;34m.\u001b[0m\u001b[0mstatus\u001b[0m\u001b[0;34m.\u001b[0m\u001b[0mstatus\u001b[0m\u001b[0;34m)\u001b[0m\u001b[0;34m)\u001b[0m\u001b[0;34m,\u001b[0m\u001b[0;34m\u001b[0m\u001b[0m\n\u001b[0;32m--> 516\u001b[0;31m             c_api.TF_GetCode(self.status.status))\n\u001b[0m\u001b[1;32m    517\u001b[0m     \u001b[0;31m# Delete the underlying status object from memory otherwise it stays alive\u001b[0m\u001b[0;34m\u001b[0m\u001b[0;34m\u001b[0m\u001b[0m\n",
      "\u001b[0;31mResourceExhaustedError\u001b[0m: OOM when allocating tensor with shape[1,128,256,256] and type float on /job:localhost/replica:0/task:0/device:GPU:0 by allocator GPU_0_bfc\n\t [[Node: gradients_23/AddN_2-0-TransposeNHWCToNCHW-LayoutOptimizer = Transpose[T=DT_FLOAT, Tperm=DT_INT32, _device=\"/job:localhost/replica:0/task:0/device:GPU:0\"](gradients_23/Reshape_247_grad/Reshape, PermConstNHWCToNCHW-LayoutOptimizer)]]\nHint: If you want to see a list of allocated tensors when OOM happens, add report_tensor_allocations_upon_oom to RunOptions for current allocation info.\n\n\t [[Node: gradients_23/block1_conv1/convolution_grad/Conv2DBackpropInput/_1263 = _Recv[client_terminated=false, recv_device=\"/job:localhost/replica:0/task:0/device:CPU:0\", send_device=\"/job:localhost/replica:0/task:0/device:GPU:0\", send_device_incarnation=1, tensor_name=\"edge_273_gradients_23/block1_conv1/convolution_grad/Conv2DBackpropInput\", tensor_type=DT_FLOAT, _device=\"/job:localhost/replica:0/task:0/device:CPU:0\"]()]]\nHint: If you want to see a list of allocated tensors when OOM happens, add report_tensor_allocations_upon_oom to RunOptions for current allocation info.\n",
      "\nDuring handling of the above exception, another exception occurred:\n",
      "\u001b[0;31mResourceExhaustedError\u001b[0m               Traceback (most recent call last)",
      "\u001b[0;32m<ipython-input-26-64510fa5fd6a>\u001b[0m in \u001b[0;36m<module>\u001b[0;34m()\u001b[0m\n\u001b[0;32m----> 1\u001b[0;31m \u001b[0mX_optim\u001b[0m\u001b[0;34m,\u001b[0m \u001b[0m_\u001b[0m\u001b[0;34m,\u001b[0m \u001b[0minfo\u001b[0m \u001b[0;34m=\u001b[0m \u001b[0mfmin_l_bfgs_b\u001b[0m\u001b[0;34m(\u001b[0m\u001b[0mcalculate_loss\u001b[0m\u001b[0;34m,\u001b[0m \u001b[0mX\u001b[0m\u001b[0;34m,\u001b[0m \u001b[0mfprime\u001b[0m\u001b[0;34m=\u001b[0m\u001b[0mcalculate_grad\u001b[0m\u001b[0;34m,\u001b[0m \u001b[0mmaxiter\u001b[0m\u001b[0;34m=\u001b[0m\u001b[0mepochs\u001b[0m\u001b[0;34m,\u001b[0m \u001b[0mbounds\u001b[0m\u001b[0;34m=\u001b[0m\u001b[0mbounds\u001b[0m\u001b[0;34m,\u001b[0m \u001b[0mcallback\u001b[0m\u001b[0;34m=\u001b[0m\u001b[0mcallback\u001b[0m\u001b[0;34m)\u001b[0m\u001b[0;34m\u001b[0m\u001b[0m\n\u001b[0m",
      "\u001b[0;32m~/anaconda3/envs/tfgpu/lib/python3.6/site-packages/scipy/optimize/lbfgsb.py\u001b[0m in \u001b[0;36mfmin_l_bfgs_b\u001b[0;34m(func, x0, fprime, args, approx_grad, bounds, m, factr, pgtol, epsilon, iprint, maxfun, maxiter, disp, callback, maxls)\u001b[0m\n\u001b[1;32m    197\u001b[0m \u001b[0;34m\u001b[0m\u001b[0m\n\u001b[1;32m    198\u001b[0m     res = _minimize_lbfgsb(fun, x0, args=args, jac=jac, bounds=bounds,\n\u001b[0;32m--> 199\u001b[0;31m                            **opts)\n\u001b[0m\u001b[1;32m    200\u001b[0m     d = {'grad': res['jac'],\n\u001b[1;32m    201\u001b[0m          \u001b[0;34m'task'\u001b[0m\u001b[0;34m:\u001b[0m \u001b[0mres\u001b[0m\u001b[0;34m[\u001b[0m\u001b[0;34m'message'\u001b[0m\u001b[0;34m]\u001b[0m\u001b[0;34m,\u001b[0m\u001b[0;34m\u001b[0m\u001b[0m\n",
      "\u001b[0;32m~/anaconda3/envs/tfgpu/lib/python3.6/site-packages/scipy/optimize/lbfgsb.py\u001b[0m in \u001b[0;36m_minimize_lbfgsb\u001b[0;34m(fun, x0, args, jac, bounds, disp, maxcor, ftol, gtol, eps, maxfun, maxiter, iprint, callback, maxls, **unknown_options)\u001b[0m\n\u001b[1;32m    333\u001b[0m             \u001b[0;31m# until the completion of the current minimization iteration.\u001b[0m\u001b[0;34m\u001b[0m\u001b[0;34m\u001b[0m\u001b[0m\n\u001b[1;32m    334\u001b[0m             \u001b[0;31m# Overwrite f and g:\u001b[0m\u001b[0;34m\u001b[0m\u001b[0;34m\u001b[0m\u001b[0m\n\u001b[0;32m--> 335\u001b[0;31m             \u001b[0mf\u001b[0m\u001b[0;34m,\u001b[0m \u001b[0mg\u001b[0m \u001b[0;34m=\u001b[0m \u001b[0mfunc_and_grad\u001b[0m\u001b[0;34m(\u001b[0m\u001b[0mx\u001b[0m\u001b[0;34m)\u001b[0m\u001b[0;34m\u001b[0m\u001b[0m\n\u001b[0m\u001b[1;32m    336\u001b[0m         \u001b[0;32melif\u001b[0m \u001b[0mtask_str\u001b[0m\u001b[0;34m.\u001b[0m\u001b[0mstartswith\u001b[0m\u001b[0;34m(\u001b[0m\u001b[0;34mb'NEW_X'\u001b[0m\u001b[0;34m)\u001b[0m\u001b[0;34m:\u001b[0m\u001b[0;34m\u001b[0m\u001b[0m\n\u001b[1;32m    337\u001b[0m             \u001b[0;31m# new iteration\u001b[0m\u001b[0;34m\u001b[0m\u001b[0;34m\u001b[0m\u001b[0m\n",
      "\u001b[0;32m~/anaconda3/envs/tfgpu/lib/python3.6/site-packages/scipy/optimize/lbfgsb.py\u001b[0m in \u001b[0;36mfunc_and_grad\u001b[0;34m(x)\u001b[0m\n\u001b[1;32m    284\u001b[0m         \u001b[0;32mdef\u001b[0m \u001b[0mfunc_and_grad\u001b[0m\u001b[0;34m(\u001b[0m\u001b[0mx\u001b[0m\u001b[0;34m)\u001b[0m\u001b[0;34m:\u001b[0m\u001b[0;34m\u001b[0m\u001b[0m\n\u001b[1;32m    285\u001b[0m             \u001b[0mf\u001b[0m \u001b[0;34m=\u001b[0m \u001b[0mfun\u001b[0m\u001b[0;34m(\u001b[0m\u001b[0mx\u001b[0m\u001b[0;34m,\u001b[0m \u001b[0;34m*\u001b[0m\u001b[0margs\u001b[0m\u001b[0;34m)\u001b[0m\u001b[0;34m\u001b[0m\u001b[0m\n\u001b[0;32m--> 286\u001b[0;31m             \u001b[0mg\u001b[0m \u001b[0;34m=\u001b[0m \u001b[0mjac\u001b[0m\u001b[0;34m(\u001b[0m\u001b[0mx\u001b[0m\u001b[0;34m,\u001b[0m \u001b[0;34m*\u001b[0m\u001b[0margs\u001b[0m\u001b[0;34m)\u001b[0m\u001b[0;34m\u001b[0m\u001b[0m\n\u001b[0m\u001b[1;32m    287\u001b[0m             \u001b[0;32mreturn\u001b[0m \u001b[0mf\u001b[0m\u001b[0;34m,\u001b[0m \u001b[0mg\u001b[0m\u001b[0;34m\u001b[0m\u001b[0m\n\u001b[1;32m    288\u001b[0m \u001b[0;34m\u001b[0m\u001b[0m\n",
      "\u001b[0;32m<ipython-input-24-d28b4993a314>\u001b[0m in \u001b[0;36mcalculate_grad\u001b[0;34m(gimg)\u001b[0m\n\u001b[1;32m     17\u001b[0m     \u001b[0mgradients\u001b[0m \u001b[0;34m=\u001b[0m \u001b[0mK\u001b[0m\u001b[0;34m.\u001b[0m\u001b[0mgradients\u001b[0m\u001b[0;34m(\u001b[0m\u001b[0mloss\u001b[0m\u001b[0;34m,\u001b[0m \u001b[0;34m[\u001b[0m\u001b[0mconv_net\u001b[0m\u001b[0;34m.\u001b[0m\u001b[0minput\u001b[0m\u001b[0;34m]\u001b[0m\u001b[0;34m)\u001b[0m\u001b[0;34m\u001b[0m\u001b[0m\n\u001b[1;32m     18\u001b[0m     \u001b[0mgrad_func\u001b[0m \u001b[0;34m=\u001b[0m \u001b[0mK\u001b[0m\u001b[0;34m.\u001b[0m\u001b[0mfunction\u001b[0m\u001b[0;34m(\u001b[0m\u001b[0;34m[\u001b[0m\u001b[0mconv_net\u001b[0m\u001b[0;34m.\u001b[0m\u001b[0minput\u001b[0m\u001b[0;34m]\u001b[0m\u001b[0;34m,\u001b[0m \u001b[0mgradients\u001b[0m\u001b[0;34m)\u001b[0m\u001b[0;34m\u001b[0m\u001b[0m\n\u001b[0;32m---> 19\u001b[0;31m     \u001b[0mgrads\u001b[0m \u001b[0;34m=\u001b[0m \u001b[0mgrad_func\u001b[0m\u001b[0;34m(\u001b[0m\u001b[0;34m[\u001b[0m\u001b[0mgimg\u001b[0m\u001b[0;34m]\u001b[0m\u001b[0;34m)\u001b[0m\u001b[0;34m[\u001b[0m\u001b[0;36m0\u001b[0m\u001b[0;34m]\u001b[0m\u001b[0;34m.\u001b[0m\u001b[0mastype\u001b[0m\u001b[0;34m(\u001b[0m\u001b[0;34m'float64'\u001b[0m\u001b[0;34m)\u001b[0m\u001b[0;34m.\u001b[0m\u001b[0mflatten\u001b[0m\u001b[0;34m(\u001b[0m\u001b[0;34m)\u001b[0m\u001b[0;34m\u001b[0m\u001b[0m\n\u001b[0m\u001b[1;32m     20\u001b[0m     \u001b[0;32mreturn\u001b[0m \u001b[0mgrads\u001b[0m\u001b[0;34m\u001b[0m\u001b[0m\n\u001b[1;32m     21\u001b[0m \u001b[0;34m\u001b[0m\u001b[0m\n",
      "\u001b[0;32m~/anaconda3/envs/tfgpu/lib/python3.6/site-packages/keras/backend/tensorflow_backend.py\u001b[0m in \u001b[0;36m__call__\u001b[0;34m(self, inputs)\u001b[0m\n\u001b[1;32m   2480\u001b[0m         \u001b[0msession\u001b[0m \u001b[0;34m=\u001b[0m \u001b[0mget_session\u001b[0m\u001b[0;34m(\u001b[0m\u001b[0;34m)\u001b[0m\u001b[0;34m\u001b[0m\u001b[0m\n\u001b[1;32m   2481\u001b[0m         updated = session.run(fetches=fetches, feed_dict=feed_dict,\n\u001b[0;32m-> 2482\u001b[0;31m                               **self.session_kwargs)\n\u001b[0m\u001b[1;32m   2483\u001b[0m         \u001b[0;32mreturn\u001b[0m \u001b[0mupdated\u001b[0m\u001b[0;34m[\u001b[0m\u001b[0;34m:\u001b[0m\u001b[0mlen\u001b[0m\u001b[0;34m(\u001b[0m\u001b[0mself\u001b[0m\u001b[0;34m.\u001b[0m\u001b[0moutputs\u001b[0m\u001b[0;34m)\u001b[0m\u001b[0;34m]\u001b[0m\u001b[0;34m\u001b[0m\u001b[0m\n\u001b[1;32m   2484\u001b[0m \u001b[0;34m\u001b[0m\u001b[0m\n",
      "\u001b[0;32m~/anaconda3/envs/tfgpu/lib/python3.6/site-packages/tensorflow/python/client/session.py\u001b[0m in \u001b[0;36mrun\u001b[0;34m(self, fetches, feed_dict, options, run_metadata)\u001b[0m\n\u001b[1;32m    903\u001b[0m     \u001b[0;32mtry\u001b[0m\u001b[0;34m:\u001b[0m\u001b[0;34m\u001b[0m\u001b[0m\n\u001b[1;32m    904\u001b[0m       result = self._run(None, fetches, feed_dict, options_ptr,\n\u001b[0;32m--> 905\u001b[0;31m                          run_metadata_ptr)\n\u001b[0m\u001b[1;32m    906\u001b[0m       \u001b[0;32mif\u001b[0m \u001b[0mrun_metadata\u001b[0m\u001b[0;34m:\u001b[0m\u001b[0;34m\u001b[0m\u001b[0m\n\u001b[1;32m    907\u001b[0m         \u001b[0mproto_data\u001b[0m \u001b[0;34m=\u001b[0m \u001b[0mtf_session\u001b[0m\u001b[0;34m.\u001b[0m\u001b[0mTF_GetBuffer\u001b[0m\u001b[0;34m(\u001b[0m\u001b[0mrun_metadata_ptr\u001b[0m\u001b[0;34m)\u001b[0m\u001b[0;34m\u001b[0m\u001b[0m\n",
      "\u001b[0;32m~/anaconda3/envs/tfgpu/lib/python3.6/site-packages/tensorflow/python/client/session.py\u001b[0m in \u001b[0;36m_run\u001b[0;34m(self, handle, fetches, feed_dict, options, run_metadata)\u001b[0m\n\u001b[1;32m   1138\u001b[0m     \u001b[0;32mif\u001b[0m \u001b[0mfinal_fetches\u001b[0m \u001b[0;32mor\u001b[0m \u001b[0mfinal_targets\u001b[0m \u001b[0;32mor\u001b[0m \u001b[0;34m(\u001b[0m\u001b[0mhandle\u001b[0m \u001b[0;32mand\u001b[0m \u001b[0mfeed_dict_tensor\u001b[0m\u001b[0;34m)\u001b[0m\u001b[0;34m:\u001b[0m\u001b[0;34m\u001b[0m\u001b[0m\n\u001b[1;32m   1139\u001b[0m       results = self._do_run(handle, final_targets, final_fetches,\n\u001b[0;32m-> 1140\u001b[0;31m                              feed_dict_tensor, options, run_metadata)\n\u001b[0m\u001b[1;32m   1141\u001b[0m     \u001b[0;32melse\u001b[0m\u001b[0;34m:\u001b[0m\u001b[0;34m\u001b[0m\u001b[0m\n\u001b[1;32m   1142\u001b[0m       \u001b[0mresults\u001b[0m \u001b[0;34m=\u001b[0m \u001b[0;34m[\u001b[0m\u001b[0;34m]\u001b[0m\u001b[0;34m\u001b[0m\u001b[0m\n",
      "\u001b[0;32m~/anaconda3/envs/tfgpu/lib/python3.6/site-packages/tensorflow/python/client/session.py\u001b[0m in \u001b[0;36m_do_run\u001b[0;34m(self, handle, target_list, fetch_list, feed_dict, options, run_metadata)\u001b[0m\n\u001b[1;32m   1319\u001b[0m     \u001b[0;32mif\u001b[0m \u001b[0mhandle\u001b[0m \u001b[0;32mis\u001b[0m \u001b[0;32mNone\u001b[0m\u001b[0;34m:\u001b[0m\u001b[0;34m\u001b[0m\u001b[0m\n\u001b[1;32m   1320\u001b[0m       return self._do_call(_run_fn, feeds, fetches, targets, options,\n\u001b[0;32m-> 1321\u001b[0;31m                            run_metadata)\n\u001b[0m\u001b[1;32m   1322\u001b[0m     \u001b[0;32melse\u001b[0m\u001b[0;34m:\u001b[0m\u001b[0;34m\u001b[0m\u001b[0m\n\u001b[1;32m   1323\u001b[0m       \u001b[0;32mreturn\u001b[0m \u001b[0mself\u001b[0m\u001b[0;34m.\u001b[0m\u001b[0m_do_call\u001b[0m\u001b[0;34m(\u001b[0m\u001b[0m_prun_fn\u001b[0m\u001b[0;34m,\u001b[0m \u001b[0mhandle\u001b[0m\u001b[0;34m,\u001b[0m \u001b[0mfeeds\u001b[0m\u001b[0;34m,\u001b[0m \u001b[0mfetches\u001b[0m\u001b[0;34m)\u001b[0m\u001b[0;34m\u001b[0m\u001b[0m\n",
      "\u001b[0;32m~/anaconda3/envs/tfgpu/lib/python3.6/site-packages/tensorflow/python/client/session.py\u001b[0m in \u001b[0;36m_do_call\u001b[0;34m(self, fn, *args)\u001b[0m\n\u001b[1;32m   1338\u001b[0m         \u001b[0;32mexcept\u001b[0m \u001b[0mKeyError\u001b[0m\u001b[0;34m:\u001b[0m\u001b[0;34m\u001b[0m\u001b[0m\n\u001b[1;32m   1339\u001b[0m           \u001b[0;32mpass\u001b[0m\u001b[0;34m\u001b[0m\u001b[0m\n\u001b[0;32m-> 1340\u001b[0;31m       \u001b[0;32mraise\u001b[0m \u001b[0mtype\u001b[0m\u001b[0;34m(\u001b[0m\u001b[0me\u001b[0m\u001b[0;34m)\u001b[0m\u001b[0;34m(\u001b[0m\u001b[0mnode_def\u001b[0m\u001b[0;34m,\u001b[0m \u001b[0mop\u001b[0m\u001b[0;34m,\u001b[0m \u001b[0mmessage\u001b[0m\u001b[0;34m)\u001b[0m\u001b[0;34m\u001b[0m\u001b[0m\n\u001b[0m\u001b[1;32m   1341\u001b[0m \u001b[0;34m\u001b[0m\u001b[0m\n\u001b[1;32m   1342\u001b[0m   \u001b[0;32mdef\u001b[0m \u001b[0m_extend_graph\u001b[0m\u001b[0;34m(\u001b[0m\u001b[0mself\u001b[0m\u001b[0;34m)\u001b[0m\u001b[0;34m:\u001b[0m\u001b[0;34m\u001b[0m\u001b[0m\n",
      "\u001b[0;31mResourceExhaustedError\u001b[0m: OOM when allocating tensor with shape[1,128,256,256] and type float on /job:localhost/replica:0/task:0/device:GPU:0 by allocator GPU_0_bfc\n\t [[Node: gradients_23/AddN_2-0-TransposeNHWCToNCHW-LayoutOptimizer = Transpose[T=DT_FLOAT, Tperm=DT_INT32, _device=\"/job:localhost/replica:0/task:0/device:GPU:0\"](gradients_23/Reshape_247_grad/Reshape, PermConstNHWCToNCHW-LayoutOptimizer)]]\nHint: If you want to see a list of allocated tensors when OOM happens, add report_tensor_allocations_upon_oom to RunOptions for current allocation info.\n\n\t [[Node: gradients_23/block1_conv1/convolution_grad/Conv2DBackpropInput/_1263 = _Recv[client_terminated=false, recv_device=\"/job:localhost/replica:0/task:0/device:CPU:0\", send_device=\"/job:localhost/replica:0/task:0/device:GPU:0\", send_device_incarnation=1, tensor_name=\"edge_273_gradients_23/block1_conv1/convolution_grad/Conv2DBackpropInput\", tensor_type=DT_FLOAT, _device=\"/job:localhost/replica:0/task:0/device:CPU:0\"]()]]\nHint: If you want to see a list of allocated tensors when OOM happens, add report_tensor_allocations_upon_oom to RunOptions for current allocation info.\n"
     ]
    }
   ],
   "source": [
    "X_optim, _, info = fmin_l_bfgs_b(calculate_loss, X, fprime=calculate_grad, maxiter=epochs, bounds=bounds, callback=callback)"
   ]
  },
  {
   "cell_type": "markdown",
   "metadata": {
    "_uuid": "dcb8f9ff8f3b8f482414bfe52370e7a24c787485",
    "colab_type": "text",
    "id": "grxlTQ-YKkJW"
   },
   "source": [
    "## View the generated image"
   ]
  },
  {
   "cell_type": "code",
   "execution_count": null,
   "metadata": {
    "_uuid": "09c62085824093f04515ccbaf4172c64ae7622d6",
    "colab": {
     "autoexec": {
      "startup": false,
      "wait_interval": 0
     }
    },
    "colab_type": "code",
    "id": "-YGj0xRBKChf"
   },
   "outputs": [],
   "source": [
    "# img = X_optim.reshape(target_size)\n",
    "# # img = postprocess_array(img)\n",
    "# implot(img)"
   ]
  },
  {
   "cell_type": "code",
   "execution_count": 28,
   "metadata": {
    "_uuid": "32947f81702107c59bd66c8ad9c7cd0b01571f4b",
    "colab": {
     "autoexec": {
      "startup": false,
      "wait_interval": 0
     },
     "base_uri": "https://localhost:8080/",
     "height": 591
    },
    "colab_type": "code",
    "executionInfo": {
     "elapsed": 2822,
     "status": "error",
     "timestamp": 1533375324695,
     "user": {
      "displayName": "Surya GCP",
      "photoUrl": "https://lh3.googleusercontent.com/a/default-user=s128",
      "userId": "111350851809469475095"
     },
     "user_tz": -330
    },
    "id": "hP3w2x_3IbMG",
    "outputId": "933b80b9-6723-4897-e6a8-0600f4d578b2"
   },
   "outputs": [
    {
     "name": "stdout",
     "output_type": "stream",
     "text": [
      "out_20.jpg\r\n"
     ]
    },
    {
     "name": "stderr",
     "output_type": "stream",
     "text": [
      "Clipping input data to the valid range for imshow with RGB data ([0..1] for floats or [0..255] for integers).\n"
     ]
    },
    {
     "data": {
      "image/png": "[encoded data removed]",
      "text/plain": [
       "<Figure size 504x504 with 1 Axes>"
      ]
     },
     "metadata": {},
     "output_type": "display_data"
    }
   ],
   "source": [
    "!ls output\n",
    "implot(output_path+'out_20.jpg')"
   ]
  },
  {
   "cell_type": "code",
   "execution_count": null,
   "metadata": {
    "_uuid": "605713dd1c9816192570ed498e41e02098fecfe1",
    "colab": {
     "autoexec": {
      "startup": false,
      "wait_interval": 0
     }
    },
    "colab_type": "code",
    "id": "xNXCajW8MKMf"
   },
   "outputs": [],
   "source": []
  },
  {
   "cell_type": "markdown",
   "metadata": {
    "_uuid": "68c83d98c748ed0669700c394be378bea3e02bb4",
    "colab_type": "text",
    "id": "ET_EIUc-BFyt"
   },
   "source": []
  }
 ],
 "metadata": {
  "accelerator": "GPU",
  "colab": {
   "collapsed_sections": [
    "Su7-neIuLmoX",
    "NDjI_o-6mnZs",
    "LAB31mmF5M_4"
   ],
   "default_view": {},
   "name": "Neural style transfer 2.ipynb",
   "provenance": [],
   "version": "0.3.2",
   "views": {}
  },
  "kernelspec": {
   "display_name": "Python [conda env:tfgpu]",
   "language": "python",
   "name": "conda-env-tfgpu-py"
  },
  "language_info": {
   "codemirror_mode": {
    "name": "ipython",
    "version": 3
   },
   "file_extension": ".py",
   "mimetype": "text/x-python",
   "name": "python",
   "nbconvert_exporter": "python",
   "pygments_lexer": "ipython3",
   "version": "3.6.5"
  },
  "latex_envs": {
   "LaTeX_envs_menu_present": true,
   "autocomplete": true,
   "bibliofile": "biblio.bib",
   "cite_by": "apalike",
   "current_citInitial": 1,
   "eqLabelWithNumbers": true,
   "eqNumInitial": 1,
   "hotkeys": {
    "equation": "Ctrl-E",
    "itemize": "Ctrl-I"
   },
   "labels_anchors": false,
   "latex_user_defs": false,
   "report_style_numbering": false,
   "user_envs_cfg": false
  }
 },
 "nbformat": 4,
 "nbformat_minor": 1
}
